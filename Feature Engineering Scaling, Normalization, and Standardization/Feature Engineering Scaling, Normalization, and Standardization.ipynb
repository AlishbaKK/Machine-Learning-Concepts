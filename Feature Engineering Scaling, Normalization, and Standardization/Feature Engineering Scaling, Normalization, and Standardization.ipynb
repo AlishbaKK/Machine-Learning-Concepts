{
 "cells": [
  {
   "cell_type": "markdown",
   "id": "10d59d98",
   "metadata": {},
   "source": [
    "# Feature Scaling"
   ]
  },
  {
   "cell_type": "markdown",
   "id": "584f5557",
   "metadata": {},
   "source": [
    "Feature Scaling is a technique to standardize the independent features present in the data in a fixed range. It is performed during the data pre-processing to handle highly varying magnitudes or values or units. If feature scaling is not done, then a machine learning algorithm tends to weigh greater values, higher and consider smaller values as the lower values, regardless of the unit of the values."
   ]
  },
  {
   "cell_type": "markdown",
   "id": "a3ba4744",
   "metadata": {},
   "source": [
    "# Types of Feature Scaling"
   ]
  },
  {
   "cell_type": "markdown",
   "id": "798ac98b",
   "metadata": {},
   "source": [
    "# 1) Absolute Maximum Scaling"
   ]
  },
  {
   "cell_type": "markdown",
   "id": "4369ce47",
   "metadata": {},
   "source": [
    "This method of scaling requires two-step:"
   ]
  },
  {
   "cell_type": "markdown",
   "id": "e7cf3f35",
   "metadata": {},
   "source": [
    "1) We should first select the maximum absolute value out of all the entries of a particular measure."
   ]
  },
  {
   "cell_type": "markdown",
   "id": "8a736b18",
   "metadata": {},
   "source": [
    "For the demonstration purpose, we is provided. This dataset is a simpler version of the original house price prediction dataset having only two columns from the original dataset. The first five rows of the original data are shown below:"
   ]
  },
  {
   "cell_type": "code",
   "execution_count": 1,
   "id": "a7221bf0",
   "metadata": {},
   "outputs": [
    {
     "data": {
      "text/html": [
       "<div>\n",
       "<style scoped>\n",
       "    .dataframe tbody tr th:only-of-type {\n",
       "        vertical-align: middle;\n",
       "    }\n",
       "\n",
       "    .dataframe tbody tr th {\n",
       "        vertical-align: top;\n",
       "    }\n",
       "\n",
       "    .dataframe thead th {\n",
       "        text-align: right;\n",
       "    }\n",
       "</style>\n",
       "<table border=\"1\" class=\"dataframe\">\n",
       "  <thead>\n",
       "    <tr style=\"text-align: right;\">\n",
       "      <th></th>\n",
       "      <th>LotArea</th>\n",
       "      <th>MSSubClass</th>\n",
       "    </tr>\n",
       "  </thead>\n",
       "  <tbody>\n",
       "    <tr>\n",
       "      <th>0</th>\n",
       "      <td>8450</td>\n",
       "      <td>60</td>\n",
       "    </tr>\n",
       "    <tr>\n",
       "      <th>1</th>\n",
       "      <td>9600</td>\n",
       "      <td>20</td>\n",
       "    </tr>\n",
       "    <tr>\n",
       "      <th>2</th>\n",
       "      <td>11250</td>\n",
       "      <td>60</td>\n",
       "    </tr>\n",
       "    <tr>\n",
       "      <th>3</th>\n",
       "      <td>9550</td>\n",
       "      <td>70</td>\n",
       "    </tr>\n",
       "    <tr>\n",
       "      <th>4</th>\n",
       "      <td>14260</td>\n",
       "      <td>60</td>\n",
       "    </tr>\n",
       "  </tbody>\n",
       "</table>\n",
       "</div>"
      ],
      "text/plain": [
       "   LotArea  MSSubClass\n",
       "0     8450          60\n",
       "1     9600          20\n",
       "2    11250          60\n",
       "3     9550          70\n",
       "4    14260          60"
      ]
     },
     "execution_count": 1,
     "metadata": {},
     "output_type": "execute_result"
    }
   ],
   "source": [
    "import pandas as pd\n",
    "df = pd.read_csv('feature scaling data set/price.csv')\n",
    "df.head()"
   ]
  },
  {
   "cell_type": "code",
   "execution_count": 2,
   "id": "726988b8",
   "metadata": {},
   "outputs": [],
   "source": [
    "import numpy as np"
   ]
  },
  {
   "cell_type": "code",
   "execution_count": 17,
   "id": "b20dd5b5",
   "metadata": {},
   "outputs": [
    {
     "data": {
      "text/plain": [
       "215245"
      ]
     },
     "execution_count": 17,
     "metadata": {},
     "output_type": "execute_result"
    }
   ],
   "source": [
    "max_vals_col1 = np.max(np.abs(df['LotArea']))\n",
    "max_vals_col1"
   ]
  },
  {
   "cell_type": "code",
   "execution_count": 18,
   "id": "ebe32132",
   "metadata": {},
   "outputs": [
    {
     "data": {
      "text/plain": [
       "190"
      ]
     },
     "execution_count": 18,
     "metadata": {},
     "output_type": "execute_result"
    }
   ],
   "source": [
    "import numpy as np\n",
    "max_vals_col2 = np.max(np.abs(df['MSSubClass']))\n",
    "max_vals_col2"
   ]
  },
  {
   "cell_type": "markdown",
   "id": "5e92e626",
   "metadata": {},
   "source": [
    "2)Then after this, we divide each entry of the column by this maximum value."
   ]
  },
  {
   "cell_type": "code",
   "execution_count": 23,
   "id": "1f417b3b",
   "metadata": {},
   "outputs": [],
   "source": [
    "X_scaled_col1 = (df['LotArea'] - max_vals_col1)/max_vals_col1"
   ]
  },
  {
   "cell_type": "code",
   "execution_count": 24,
   "id": "54c20cb6",
   "metadata": {},
   "outputs": [
    {
     "data": {
      "text/plain": [
       "0      -0.960742\n",
       "1      -0.955400\n",
       "2      -0.947734\n",
       "3      -0.955632\n",
       "4      -0.933750\n",
       "          ...   \n",
       "1455   -0.963219\n",
       "1456   -0.938791\n",
       "1457   -0.957992\n",
       "1458   -0.954856\n",
       "1459   -0.953834\n",
       "Name: LotArea, Length: 1460, dtype: float64"
      ]
     },
     "execution_count": 24,
     "metadata": {},
     "output_type": "execute_result"
    }
   ],
   "source": [
    "X_scaled_col1"
   ]
  },
  {
   "cell_type": "code",
   "execution_count": 25,
   "id": "9ef9cd7a",
   "metadata": {},
   "outputs": [],
   "source": [
    "X_scaled_col2 = (df['MSSubClass'] - max_vals_col2)/max_vals_col2"
   ]
  },
  {
   "cell_type": "code",
   "execution_count": 26,
   "id": "52ebcd77",
   "metadata": {},
   "outputs": [
    {
     "data": {
      "text/plain": [
       "0      -0.684211\n",
       "1      -0.894737\n",
       "2      -0.684211\n",
       "3      -0.631579\n",
       "4      -0.684211\n",
       "          ...   \n",
       "1455   -0.684211\n",
       "1456   -0.894737\n",
       "1457   -0.631579\n",
       "1458   -0.894737\n",
       "1459   -0.894737\n",
       "Name: MSSubClass, Length: 1460, dtype: float64"
      ]
     },
     "execution_count": 26,
     "metadata": {},
     "output_type": "execute_result"
    }
   ],
   "source": [
    "X_scaled_col2"
   ]
  },
  {
   "cell_type": "code",
   "execution_count": 31,
   "id": "94fe2915",
   "metadata": {},
   "outputs": [
    {
     "data": {
      "text/html": [
       "<div>\n",
       "<style scoped>\n",
       "    .dataframe tbody tr th:only-of-type {\n",
       "        vertical-align: middle;\n",
       "    }\n",
       "\n",
       "    .dataframe tbody tr th {\n",
       "        vertical-align: top;\n",
       "    }\n",
       "\n",
       "    .dataframe thead th {\n",
       "        text-align: right;\n",
       "    }\n",
       "</style>\n",
       "<table border=\"1\" class=\"dataframe\">\n",
       "  <thead>\n",
       "    <tr style=\"text-align: right;\">\n",
       "      <th></th>\n",
       "      <th>LotArea</th>\n",
       "      <th>MSSubClass</th>\n",
       "    </tr>\n",
       "  </thead>\n",
       "  <tbody>\n",
       "    <tr>\n",
       "      <th>0</th>\n",
       "      <td>-0.960742</td>\n",
       "      <td>-0.684211</td>\n",
       "    </tr>\n",
       "    <tr>\n",
       "      <th>1</th>\n",
       "      <td>-0.955400</td>\n",
       "      <td>-0.894737</td>\n",
       "    </tr>\n",
       "    <tr>\n",
       "      <th>2</th>\n",
       "      <td>-0.947734</td>\n",
       "      <td>-0.684211</td>\n",
       "    </tr>\n",
       "    <tr>\n",
       "      <th>3</th>\n",
       "      <td>-0.955632</td>\n",
       "      <td>-0.631579</td>\n",
       "    </tr>\n",
       "    <tr>\n",
       "      <th>4</th>\n",
       "      <td>-0.933750</td>\n",
       "      <td>-0.684211</td>\n",
       "    </tr>\n",
       "    <tr>\n",
       "      <th>...</th>\n",
       "      <td>...</td>\n",
       "      <td>...</td>\n",
       "    </tr>\n",
       "    <tr>\n",
       "      <th>1455</th>\n",
       "      <td>-0.963219</td>\n",
       "      <td>-0.684211</td>\n",
       "    </tr>\n",
       "    <tr>\n",
       "      <th>1456</th>\n",
       "      <td>-0.938791</td>\n",
       "      <td>-0.894737</td>\n",
       "    </tr>\n",
       "    <tr>\n",
       "      <th>1457</th>\n",
       "      <td>-0.957992</td>\n",
       "      <td>-0.631579</td>\n",
       "    </tr>\n",
       "    <tr>\n",
       "      <th>1458</th>\n",
       "      <td>-0.954856</td>\n",
       "      <td>-0.894737</td>\n",
       "    </tr>\n",
       "    <tr>\n",
       "      <th>1459</th>\n",
       "      <td>-0.953834</td>\n",
       "      <td>-0.894737</td>\n",
       "    </tr>\n",
       "  </tbody>\n",
       "</table>\n",
       "<p>1460 rows × 2 columns</p>\n",
       "</div>"
      ],
      "text/plain": [
       "       LotArea  MSSubClass\n",
       "0    -0.960742   -0.684211\n",
       "1    -0.955400   -0.894737\n",
       "2    -0.947734   -0.684211\n",
       "3    -0.955632   -0.631579\n",
       "4    -0.933750   -0.684211\n",
       "...        ...         ...\n",
       "1455 -0.963219   -0.684211\n",
       "1456 -0.938791   -0.894737\n",
       "1457 -0.957992   -0.631579\n",
       "1458 -0.954856   -0.894737\n",
       "1459 -0.953834   -0.894737\n",
       "\n",
       "[1460 rows x 2 columns]"
      ]
     },
     "execution_count": 31,
     "metadata": {},
     "output_type": "execute_result"
    }
   ],
   "source": [
    "dataframes = [X_scaled_col1,X_scaled_col2]\n",
    "Absolute_Maximum_Scaling = pd.concat(dataframes,axis=1)\n",
    "Absolute_Maximum_Scaling"
   ]
  },
  {
   "cell_type": "markdown",
   "id": "aca580f1",
   "metadata": {},
   "source": [
    "# 2) Min-Max Scaling"
   ]
  },
  {
   "cell_type": "markdown",
   "id": "8a03eb6e",
   "metadata": {},
   "source": [
    "Rescaling the features to a specific range, such as between 0 and 1, by subtracting the minimum value and dividing by the range."
   ]
  },
  {
   "cell_type": "markdown",
   "id": "f0ac0d67",
   "metadata": {},
   "source": [
    "This method of scaling requires below two-step:"
   ]
  },
  {
   "cell_type": "markdown",
   "id": "7c81954b",
   "metadata": {},
   "source": [
    "First, we are supposed to find the minimum and the maximum value of the column. Then we will subtract the minimum value from the entry and divide the result by the difference between the maximum and the minimum value."
   ]
  },
  {
   "cell_type": "code",
   "execution_count": 12,
   "id": "a5dc51b6",
   "metadata": {},
   "outputs": [],
   "source": [
    "from sklearn.preprocessing import MinMaxScaler"
   ]
  },
  {
   "cell_type": "code",
   "execution_count": 13,
   "id": "140e3ee8",
   "metadata": {},
   "outputs": [],
   "source": [
    "scaler = MinMaxScaler()"
   ]
  },
  {
   "cell_type": "code",
   "execution_count": 14,
   "id": "240ae408",
   "metadata": {},
   "outputs": [],
   "source": [
    "Scaled_X = scaler.fit_transform(df)"
   ]
  },
  {
   "cell_type": "code",
   "execution_count": 16,
   "id": "04efa227",
   "metadata": {},
   "outputs": [],
   "source": [
    "Scaled_X_df=pd.DataFrame(Scaled_X, columns= ['LotArea','MSSubClass'])"
   ]
  },
  {
   "cell_type": "code",
   "execution_count": 18,
   "id": "a84188ec",
   "metadata": {},
   "outputs": [
    {
     "data": {
      "text/html": [
       "<div>\n",
       "<style scoped>\n",
       "    .dataframe tbody tr th:only-of-type {\n",
       "        vertical-align: middle;\n",
       "    }\n",
       "\n",
       "    .dataframe tbody tr th {\n",
       "        vertical-align: top;\n",
       "    }\n",
       "\n",
       "    .dataframe thead th {\n",
       "        text-align: right;\n",
       "    }\n",
       "</style>\n",
       "<table border=\"1\" class=\"dataframe\">\n",
       "  <thead>\n",
       "    <tr style=\"text-align: right;\">\n",
       "      <th></th>\n",
       "      <th>LotArea</th>\n",
       "      <th>MSSubClass</th>\n",
       "    </tr>\n",
       "  </thead>\n",
       "  <tbody>\n",
       "    <tr>\n",
       "      <th>0</th>\n",
       "      <td>0.033420</td>\n",
       "      <td>0.235294</td>\n",
       "    </tr>\n",
       "    <tr>\n",
       "      <th>1</th>\n",
       "      <td>0.038795</td>\n",
       "      <td>0.000000</td>\n",
       "    </tr>\n",
       "    <tr>\n",
       "      <th>2</th>\n",
       "      <td>0.046507</td>\n",
       "      <td>0.235294</td>\n",
       "    </tr>\n",
       "    <tr>\n",
       "      <th>3</th>\n",
       "      <td>0.038561</td>\n",
       "      <td>0.294118</td>\n",
       "    </tr>\n",
       "    <tr>\n",
       "      <th>4</th>\n",
       "      <td>0.060576</td>\n",
       "      <td>0.235294</td>\n",
       "    </tr>\n",
       "  </tbody>\n",
       "</table>\n",
       "</div>"
      ],
      "text/plain": [
       "    LotArea  MSSubClass\n",
       "0  0.033420    0.235294\n",
       "1  0.038795    0.000000\n",
       "2  0.046507    0.235294\n",
       "3  0.038561    0.294118\n",
       "4  0.060576    0.235294"
      ]
     },
     "execution_count": 18,
     "metadata": {},
     "output_type": "execute_result"
    }
   ],
   "source": [
    "Scaled_X_df.head()"
   ]
  },
  {
   "cell_type": "markdown",
   "id": "0c5702ff",
   "metadata": {},
   "source": [
    "As we are using the maximum and the minimum value this method is also prone to outliers but the range in which the data will range after performing the above two steps is between 0 to 1."
   ]
  },
  {
   "cell_type": "markdown",
   "id": "c0e9206c",
   "metadata": {},
   "source": [
    "# 3) Normalization"
   ]
  },
  {
   "cell_type": "markdown",
   "id": "c1f2d175",
   "metadata": {},
   "source": [
    "This method is more or less the same as the previous method but here instead of the minimum value, we subtract each entry by the mean value of the whole data and then divide the results by the difference between the minimum and the maximum value. In nromalization, Minimum and maximum value of features are used for scaling.  It Scales values between [0, 1] or [-1, 1]."
   ]
  },
  {
   "cell_type": "code",
   "execution_count": 19,
   "id": "b3661f11",
   "metadata": {},
   "outputs": [],
   "source": [
    "from sklearn.preprocessing import Normalizer"
   ]
  },
  {
   "cell_type": "code",
   "execution_count": 20,
   "id": "3ee4ea94",
   "metadata": {},
   "outputs": [],
   "source": [
    "normalizer = Normalizer()"
   ]
  },
  {
   "cell_type": "code",
   "execution_count": 21,
   "id": "bf015e19",
   "metadata": {},
   "outputs": [],
   "source": [
    "Normalized_X = normalizer.fit_transform(df)"
   ]
  },
  {
   "cell_type": "code",
   "execution_count": 22,
   "id": "4a0dfea9",
   "metadata": {},
   "outputs": [
    {
     "data": {
      "text/plain": [
       "array([[0.99997479, 0.00710041],\n",
       "       [0.99999783, 0.00208333],\n",
       "       [0.99998578, 0.00533326],\n",
       "       ...,\n",
       "       [0.99997003, 0.00774142],\n",
       "       [0.99999788, 0.00205824],\n",
       "       [0.99999797, 0.00201268]])"
      ]
     },
     "execution_count": 22,
     "metadata": {},
     "output_type": "execute_result"
    }
   ],
   "source": [
    "Normalized_X"
   ]
  },
  {
   "cell_type": "code",
   "execution_count": 23,
   "id": "602cf527",
   "metadata": {},
   "outputs": [],
   "source": [
    "Normalized_X_df = pd.DataFrame(Normalized_X, columns=[['LotArea','MSSubClass']])"
   ]
  },
  {
   "cell_type": "code",
   "execution_count": 24,
   "id": "1548bf1a",
   "metadata": {},
   "outputs": [
    {
     "data": {
      "text/html": [
       "<div>\n",
       "<style scoped>\n",
       "    .dataframe tbody tr th:only-of-type {\n",
       "        vertical-align: middle;\n",
       "    }\n",
       "\n",
       "    .dataframe tbody tr th {\n",
       "        vertical-align: top;\n",
       "    }\n",
       "\n",
       "    .dataframe thead tr th {\n",
       "        text-align: left;\n",
       "    }\n",
       "</style>\n",
       "<table border=\"1\" class=\"dataframe\">\n",
       "  <thead>\n",
       "    <tr>\n",
       "      <th></th>\n",
       "      <th>LotArea</th>\n",
       "      <th>MSSubClass</th>\n",
       "    </tr>\n",
       "  </thead>\n",
       "  <tbody>\n",
       "    <tr>\n",
       "      <th>0</th>\n",
       "      <td>0.999975</td>\n",
       "      <td>0.007100</td>\n",
       "    </tr>\n",
       "    <tr>\n",
       "      <th>1</th>\n",
       "      <td>0.999998</td>\n",
       "      <td>0.002083</td>\n",
       "    </tr>\n",
       "    <tr>\n",
       "      <th>2</th>\n",
       "      <td>0.999986</td>\n",
       "      <td>0.005333</td>\n",
       "    </tr>\n",
       "    <tr>\n",
       "      <th>3</th>\n",
       "      <td>0.999973</td>\n",
       "      <td>0.007330</td>\n",
       "    </tr>\n",
       "    <tr>\n",
       "      <th>4</th>\n",
       "      <td>0.999991</td>\n",
       "      <td>0.004208</td>\n",
       "    </tr>\n",
       "    <tr>\n",
       "      <th>...</th>\n",
       "      <td>...</td>\n",
       "      <td>...</td>\n",
       "    </tr>\n",
       "    <tr>\n",
       "      <th>1455</th>\n",
       "      <td>0.999971</td>\n",
       "      <td>0.007578</td>\n",
       "    </tr>\n",
       "    <tr>\n",
       "      <th>1456</th>\n",
       "      <td>0.999999</td>\n",
       "      <td>0.001518</td>\n",
       "    </tr>\n",
       "    <tr>\n",
       "      <th>1457</th>\n",
       "      <td>0.999970</td>\n",
       "      <td>0.007741</td>\n",
       "    </tr>\n",
       "    <tr>\n",
       "      <th>1458</th>\n",
       "      <td>0.999998</td>\n",
       "      <td>0.002058</td>\n",
       "    </tr>\n",
       "    <tr>\n",
       "      <th>1459</th>\n",
       "      <td>0.999998</td>\n",
       "      <td>0.002013</td>\n",
       "    </tr>\n",
       "  </tbody>\n",
       "</table>\n",
       "<p>1460 rows × 2 columns</p>\n",
       "</div>"
      ],
      "text/plain": [
       "       LotArea MSSubClass\n",
       "0     0.999975   0.007100\n",
       "1     0.999998   0.002083\n",
       "2     0.999986   0.005333\n",
       "3     0.999973   0.007330\n",
       "4     0.999991   0.004208\n",
       "...        ...        ...\n",
       "1455  0.999971   0.007578\n",
       "1456  0.999999   0.001518\n",
       "1457  0.999970   0.007741\n",
       "1458  0.999998   0.002058\n",
       "1459  0.999998   0.002013\n",
       "\n",
       "[1460 rows x 2 columns]"
      ]
     },
     "execution_count": 24,
     "metadata": {},
     "output_type": "execute_result"
    }
   ],
   "source": [
    "Normalized_X_df"
   ]
  },
  {
   "cell_type": "markdown",
   "id": "8efd1f01",
   "metadata": {},
   "source": [
    "# 4) Standardization"
   ]
  },
  {
   "cell_type": "markdown",
   "id": "0bd587f6",
   "metadata": {},
   "source": [
    "This method of scaling is basically based on the central tendencies and variance of the data. First, we should calculate the mean and standard deviation of the data we would like to normalize. Then we are supposed to subtract the mean value from each entry and then divide the result by the standard deviation. In Standardization, Mean and standard deviation is used for scaling.It is used when we want to ensure zero mean and unit standard deviation. It is not bounded to a certain range. It is much less affected by outliers."
   ]
  },
  {
   "cell_type": "code",
   "execution_count": 25,
   "id": "ebc825de",
   "metadata": {},
   "outputs": [],
   "source": [
    "from sklearn.preprocessing import StandardScaler"
   ]
  },
  {
   "cell_type": "code",
   "execution_count": 26,
   "id": "acf009d1",
   "metadata": {},
   "outputs": [
    {
     "name": "stdout",
     "output_type": "stream",
     "text": [
      "    LotArea  MSSubClass\n",
      "0 -0.207142    0.073375\n",
      "1 -0.091886   -0.872563\n",
      "2  0.073480    0.073375\n",
      "3 -0.096897    0.309859\n",
      "4  0.375148    0.073375\n"
     ]
    }
   ],
   "source": [
    "scaler = StandardScaler()\n",
    "scaled_data = scaler.fit_transform(df)\n",
    "scaled_df_X = pd.DataFrame(scaled_data,\n",
    "                         columns=df.columns)\n",
    "print(scaled_df_X.head())"
   ]
  },
  {
   "cell_type": "markdown",
   "id": "ff183f9a",
   "metadata": {},
   "source": [
    "# 5) Robust Scaling"
   ]
  },
  {
   "cell_type": "markdown",
   "id": "d428b1ae",
   "metadata": {},
   "source": [
    "In this method of scaling, we use two main statistical measures of the data.\n",
    "\n",
    "Median, Inter-Quartile Range\n",
    "\n",
    "After calculating these two values we are supposed to subtract the median from each entry and then divide the result by the interquartile range."
   ]
  },
  {
   "cell_type": "code",
   "execution_count": 27,
   "id": "19656336",
   "metadata": {},
   "outputs": [
    {
     "name": "stdout",
     "output_type": "stream",
     "text": [
      "    LotArea  MSSubClass\n",
      "0 -0.254076         0.2\n",
      "1  0.030015        -0.6\n",
      "2  0.437624         0.2\n",
      "3  0.017663         0.4\n",
      "4  1.181201         0.2\n"
     ]
    }
   ],
   "source": [
    "from sklearn.preprocessing import RobustScaler\n",
    " \n",
    "scaler = RobustScaler()\n",
    "scaled_data = scaler.fit_transform(df)\n",
    "scaled_df_X = pd.DataFrame(scaled_data,\n",
    "                         columns=df.columns)\n",
    "print(scaled_df_X.head())"
   ]
  }
 ],
 "metadata": {
  "kernelspec": {
   "display_name": "Python 3 (ipykernel)",
   "language": "python",
   "name": "python3"
  },
  "language_info": {
   "codemirror_mode": {
    "name": "ipython",
    "version": 3
   },
   "file_extension": ".py",
   "mimetype": "text/x-python",
   "name": "python",
   "nbconvert_exporter": "python",
   "pygments_lexer": "ipython3",
   "version": "3.11.5"
  }
 },
 "nbformat": 4,
 "nbformat_minor": 5
}
